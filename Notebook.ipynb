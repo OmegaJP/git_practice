{
    "cells": [
        {
            "cell_type": "markdown",
            "metadata": {
                "collapsed": true
            },
            "source": "# \"My Jupyter Notebook on IBM Watson Studio\""
        },
        {
            "cell_type": "markdown",
            "metadata": {},
            "source": "**By: Juan Pablo Clavijo**\n\nDesired occupation: Data scientist"
        },
        {
            "cell_type": "markdown",
            "metadata": {},
            "source": "*I'm interested in becoming data scientist in order to participate in Research projects, or helping small businesses to grow, aside from an increasing my incomes exponentially*"
        },
        {
            "cell_type": "markdown",
            "metadata": {},
            "source": "### This program builds a function that takes a string from the user, asks for a character, and returns how many times the character was typed in the string"
        },
        {
            "cell_type": "code",
            "execution_count": 1,
            "metadata": {},
            "outputs": [
                {
                    "name": "stdout",
                    "output_type": "stream",
                    "text": "enter word: onomatopeia\ncount which letter ?: m\nword has 1 m\n"
                }
            ],
            "source": "def count_letters():\n    word=input('enter word: ')\n    x=input('count which letter ?: ')\n    count=0\n    index=0\n    for letter in word :\n        if x == word[index] :\n            count=count+1\n        index = index + 1\n    print('word has', count , x)\ncount_letters()"
        },
        {
            "cell_type": "markdown",
            "metadata": {},
            "source": "> \"Remember always to keep pushing yourself to achieve your goals.\"\n\n1. Have enough rest\n2. Give time for your daily labors\n3. Set priorities for your projects\n\nIf you want to visit or say hi, you can always pay a visit at [Github](https://github.com/OmegaJP)"
        },
        {
            "cell_type": "code",
            "execution_count": null,
            "metadata": {},
            "outputs": [],
            "source": ""
        }
    ],
    "metadata": {
        "kernelspec": {
            "display_name": "Python 3.6",
            "language": "python",
            "name": "python3"
        },
        "language_info": {
            "codemirror_mode": {
                "name": "ipython",
                "version": 3
            },
            "file_extension": ".py",
            "mimetype": "text/x-python",
            "name": "python",
            "nbconvert_exporter": "python",
            "pygments_lexer": "ipython3",
            "version": "3.6.9"
        }
    },
    "nbformat": 4,
    "nbformat_minor": 1
}